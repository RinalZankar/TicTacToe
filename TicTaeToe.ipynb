{
 "cells": [
  {
   "cell_type": "code",
   "execution_count": 1,
   "id": "8fcbb14c",
   "metadata": {},
   "outputs": [
    {
     "name": "stdout",
     "output_type": "stream",
     "text": [
      "Requirement already satisfied: pygame in c:\\users\\rr1129\\anaconda3\\lib\\site-packages (2.1.2)\n",
      "Note: you may need to restart the kernel to use updated packages.\n"
     ]
    }
   ],
   "source": [
    "pip install pygame"
   ]
  },
  {
   "cell_type": "code",
   "execution_count": 22,
   "id": "4d73fb3d",
   "metadata": {},
   "outputs": [],
   "source": [
    "import pygame as pg,sys\n",
    "from pygame.locals import*\n",
    "import time"
   ]
  },
  {
   "cell_type": "code",
   "execution_count": 23,
   "id": "ca046a88",
   "metadata": {},
   "outputs": [],
   "source": [
    "#initialize global variables\n",
    "XO = 'x'\n",
    "winner =None\n",
    "draw = False\n",
    "width = 400\n",
    "height = 400\n",
    "white = (255,255,255)\n",
    "line_color = (10,10,10)\n",
    "\n",
    "#tictactoe 3by3 board\n",
    "TTT = [[None]*3,[None]*3,[None]*3]"
   ]
  },
  {
   "cell_type": "code",
   "execution_count": 24,
   "id": "8061079e",
   "metadata": {},
   "outputs": [],
   "source": [
    "#initializing pygame window\n",
    "pg.init()\n",
    "fps=30\n",
    "CLOCK =pg.time.Clock()\n",
    "screen= pg.display.set_mode((width,height+100),0,32)\n",
    "pg.display.set_caption(\"Tic Tac Toe\")"
   ]
  },
  {
   "cell_type": "code",
   "execution_count": 25,
   "id": "3ca87de4",
   "metadata": {},
   "outputs": [],
   "source": [
    "#loading images\n",
    "opening= pg.image.load('tic tac opening.png')\n",
    "x_img=pg.image.load('x.png')\n",
    "o_img=pg.image.load('o.png')\n",
    "\n",
    "x_img=pg.transform.scale(x_img,(80,80))\n",
    "o_img=pg.transform.scale(o_img,(80,80))\n",
    "opening= pg.transform.scale(opening,(width,height+100))"
   ]
  },
  {
   "cell_type": "code",
   "execution_count": 14,
   "id": "01bd7a00",
   "metadata": {},
   "outputs": [],
   "source": [
    "def game_opening():\n",
    "    screen.blit(opening,(0,0))\n",
    "    pg.display.update()\n",
    "    time.sleep(1)\n",
    "    screen.fill(white)\n",
    "\n",
    "    # Drawing vertical lines\n",
    "    pg.draw.line(screen,line_color,(width/3,0),(width/3, height),7)\n",
    "    pg.draw.line(screen,line_color,(width/3*2,0),(width/3*2, height),7)\n",
    "    # Drawing horizontal lines\n",
    "    pg.draw.line(screen,line_color,(0,height/3),(width, height/3),7)\n",
    "    pg.draw.line(screen,line_color,(0,height/3*2),(width, height/3*2),7)\n",
    "    draw_status()"
   ]
  },
  {
   "cell_type": "code",
   "execution_count": 15,
   "id": "3c15f4bd",
   "metadata": {},
   "outputs": [],
   "source": [
    "def draw_status():\n",
    "    global draw\n",
    "\n",
    "    if winner is None:\n",
    "        message = XO.upper() + \"'s Turn\"\n",
    "    else:\n",
    "        message = winner.upper() + \" won!\"\n",
    "    if draw:\n",
    "        message = 'Game Draw!'\n",
    "\n",
    "    font = pg.font.Font(None, 30)\n",
    "    text = font.render(message, 1, (255, 255, 255))\n",
    "\n",
    "    # copy the rendered message onto the board\n",
    "    screen.fill ((0, 0, 0), (0, 400, 500, 100))\n",
    "    text_rect = text.get_rect(center=(width/2, 500-50))\n",
    "    screen.blit(text, text_rect)\n",
    "    pg.display.update()"
   ]
  },
  {
   "cell_type": "code",
   "execution_count": 16,
   "id": "b06a53ad",
   "metadata": {},
   "outputs": [],
   "source": [
    "def check_win():\n",
    "    global TTT, winner,draw\n",
    "\n",
    "    # check for winning rows\n",
    "    for row in range (0,3):\n",
    "        if ((TTT [row][0] == TTT[row][1] == TTT[row][2]) and(TTT [row][0] is not None)):\n",
    "            # this row won\n",
    "            winner = TTT[row][0]\n",
    "            pg.draw.line(screen, (250,0,0), (0, (row + 1)*height/3 -height/6),\\\n",
    "                              (width, (row + 1)*height/3 - height/6 ), 4)\n",
    "            break\n",
    "\n",
    "    # check for winning columns\n",
    "    for col in range (0, 3):\n",
    "        if (TTT[0][col] == TTT[1][col] == TTT[2][col]) and (TTT[0][col] is not None):\n",
    "            # this column won\n",
    "            winner = TTT[0][col]\n",
    "            #draw winning line\n",
    "            pg.draw.line (screen, (250,0,0),((col + 1)* width/3 - width/6, 0),\\\n",
    "                          ((col + 1)* width/3 - width/6, height), 4)\n",
    "            break\n",
    "\n",
    "    # check for diagonal winners\n",
    "    if (TTT[0][0] == TTT[1][1] == TTT[2][2]) and (TTT[0][0] is not None):\n",
    "        # game won diagonally left to right\n",
    "        winner = TTT[0][0]\n",
    "        pg.draw.line (screen, (250,70,70), (50, 50), (350, 350), 4)\n",
    "\n",
    "    if (TTT[0][2] == TTT[1][1] == TTT[2][0]) and (TTT[0][2] is not None):\n",
    "        # game won diagonally right to left\n",
    "        winner = TTT[0][2]\n",
    "        pg.draw.line (screen, (250,70,70), (350, 50), (50, 350), 4)\n",
    "\n",
    "    if(all([all(row) for row in TTT]) and winner is None ):\n",
    "        draw = True\n",
    "    draw_status()"
   ]
  },
  {
   "cell_type": "code",
   "execution_count": 17,
   "id": "992527f2",
   "metadata": {},
   "outputs": [],
   "source": [
    "def drawXO(row,col):\n",
    "    global TTT,XO\n",
    "    if row==1:\n",
    "        posx = 30\n",
    "    if row==2:\n",
    "        posx = width/3 + 30\n",
    "    if row==3:\n",
    "        posx = width/3*2 + 30\n",
    "\n",
    "    if col==1:\n",
    "        posy = 30\n",
    "    if col==2:\n",
    "        posy = height/3 + 30\n",
    "    if col==3:\n",
    "        posy = height/3*2 + 30\n",
    "    TTT[row-1][col-1] = XO\n",
    "    if(XO == 'x'):\n",
    "        screen.blit(x_img,(posy,posx))\n",
    "        XO= 'o'\n",
    "    else:\n",
    "        screen.blit(o_img,(posy,posx))\n",
    "        XO= 'x'\n",
    "    pg.display.update()\n",
    "    #print(posx,posy)\n",
    "    #print(TTT)"
   ]
  },
  {
   "cell_type": "code",
   "execution_count": 18,
   "id": "6e6b8cbf",
   "metadata": {},
   "outputs": [],
   "source": [
    "def userClick():\n",
    "    #get coordinates of mouse click\n",
    "    x,y = pg.mouse.get_pos()\n",
    "\n",
    "    #get column of mouse click (1-3)\n",
    "    if(x<width/3):\n",
    "        col = 1\n",
    "    elif (x<width/3*2):\n",
    "        col = 2\n",
    "    elif(x<width):\n",
    "        col = 3\n",
    "    else:\n",
    "        col = None\n",
    "\n",
    "    #get row of mouse click (1-3)\n",
    "    if(y<height/3):\n",
    "        row = 1\n",
    "    elif (y<height/3*2):\n",
    "        row = 2\n",
    "    elif(y<height):\n",
    "        row = 3\n",
    "    else:\n",
    "        row = None\n",
    "    #print(row,col)\n",
    "\n",
    "    if(row and col and TTT[row-1][col-1] is None):\n",
    "        global XO\n",
    "\n",
    "        #draw the x or o on screen\n",
    "        drawXO(row,col)\n",
    "        check_win()"
   ]
  },
  {
   "cell_type": "code",
   "execution_count": 19,
   "id": "3d3cd73b",
   "metadata": {},
   "outputs": [],
   "source": [
    "def reset_game():\n",
    "    global TTT, winner,XO, draw\n",
    "    time.sleep(3)\n",
    "    XO = 'x'\n",
    "    draw = False\n",
    "    game_opening()\n",
    "    winner=None\n",
    "    TTT = [[None]*3,[None]*3,[None]*3]"
   ]
  },
  {
   "cell_type": "code",
   "execution_count": 21,
   "id": "150842ff",
   "metadata": {},
   "outputs": [
    {
     "ename": "error",
     "evalue": "display Surface quit",
     "output_type": "error",
     "traceback": [
      "\u001b[1;31m---------------------------------------------------------------------------\u001b[0m",
      "\u001b[1;31merror\u001b[0m                                     Traceback (most recent call last)",
      "Input \u001b[1;32mIn [21]\u001b[0m, in \u001b[0;36m<cell line: 1>\u001b[1;34m()\u001b[0m\n\u001b[1;32m----> 1\u001b[0m \u001b[43mgame_opening\u001b[49m\u001b[43m(\u001b[49m\u001b[43m)\u001b[49m\n\u001b[0;32m      3\u001b[0m \u001b[38;5;66;03m# run the game loop forever\u001b[39;00m\n\u001b[0;32m      4\u001b[0m \u001b[38;5;28;01mwhile\u001b[39;00m(\u001b[38;5;28;01mTrue\u001b[39;00m):\n",
      "Input \u001b[1;32mIn [14]\u001b[0m, in \u001b[0;36mgame_opening\u001b[1;34m()\u001b[0m\n\u001b[0;32m      1\u001b[0m \u001b[38;5;28;01mdef\u001b[39;00m \u001b[38;5;21mgame_opening\u001b[39m():\n\u001b[1;32m----> 2\u001b[0m     \u001b[43mscreen\u001b[49m\u001b[38;5;241;43m.\u001b[39;49m\u001b[43mblit\u001b[49m\u001b[43m(\u001b[49m\u001b[43mopening\u001b[49m\u001b[43m,\u001b[49m\u001b[43m(\u001b[49m\u001b[38;5;241;43m0\u001b[39;49m\u001b[43m,\u001b[49m\u001b[38;5;241;43m0\u001b[39;49m\u001b[43m)\u001b[49m\u001b[43m)\u001b[49m\n\u001b[0;32m      3\u001b[0m     pg\u001b[38;5;241m.\u001b[39mdisplay\u001b[38;5;241m.\u001b[39mupdate()\n\u001b[0;32m      4\u001b[0m     time\u001b[38;5;241m.\u001b[39msleep(\u001b[38;5;241m1\u001b[39m)\n",
      "\u001b[1;31merror\u001b[0m: display Surface quit"
     ]
    }
   ],
   "source": [
    "game_opening()\n",
    "\n",
    "# run the game loop forever\n",
    "while(True):\n",
    "    for event in pg.event.get():\n",
    "        if event.type == QUIT:\n",
    "            pg.quit()\n",
    "            sys.exit()\n",
    "        elif event.type == MOUSEBUTTONDOWN:\n",
    "            # the user clicked; place an X or O\n",
    "            userClick()\n",
    "            if(winner or draw):\n",
    "                reset_game()\n",
    "\n",
    "    pg.display.update()\n",
    "    CLOCK.tick(fps)"
   ]
  },
  {
   "cell_type": "code",
   "execution_count": null,
   "id": "004b221d",
   "metadata": {},
   "outputs": [],
   "source": []
  }
 ],
 "metadata": {
  "kernelspec": {
   "display_name": "Python 3 (ipykernel)",
   "language": "python",
   "name": "python3"
  },
  "language_info": {
   "codemirror_mode": {
    "name": "ipython",
    "version": 3
   },
   "file_extension": ".py",
   "mimetype": "text/x-python",
   "name": "python",
   "nbconvert_exporter": "python",
   "pygments_lexer": "ipython3",
   "version": "3.9.12"
  }
 },
 "nbformat": 4,
 "nbformat_minor": 5
}
